{
 "cells": [
  {
   "cell_type": "code",
   "execution_count": 3,
   "id": "932fe152-b738-41b3-b1de-41727cf411bf",
   "metadata": {},
   "outputs": [
    {
     "name": "stdout",
     "output_type": "stream",
     "text": [
      "                         *  *                               \n",
      "                         *  *                               \n",
      "                         *  *                               \n",
      "                         *  *                               \n",
      "                         *  *  *  *     *                   \n",
      "                         *  *  *  *     *                   \n",
      "                         *  *  *  *     *                   \n",
      "                   *     *  *  *  *     *                   \n",
      "                   *     *  *  *  *     *                   \n",
      "                   *  *  *  *  *  *     *                   \n",
      "                *  *  *  *  *  *  *     *  *                \n",
      "                *  *  *  *  *  *  *     *  *                \n",
      "                *  *  *  *  *  *  *     *  *                \n",
      "                *  *  *  *  *  *  *     *  *                \n",
      "             *  *  *  *  *  *  *  *     *  *                \n",
      "             *  *  *  *  *  *  *  *  *  *  *  *        *    \n",
      "             *  *  *  *  *  *  *  *  *  *  *  *        *    \n",
      "             *  *  *  *  *  *  *  *  *  *  *  *     *  *    \n",
      "             *  *  *  *  *  *  *  *  *  *  *  *     *  *    \n",
      " *     *     *  *  *  *  *  *  *  *  *  *  *  *  *  *  *  * \n",
      "34 35 35 36 36 37 37 38 39 39 40 40 41 41 42 42 43 43 44 44 45 "
     ]
    }
   ],
   "source": [
    "# Nu Uyen Thi PHAN - M1 VMI\n",
    "def make_histo(input_file, nbin=20, height=20):\n",
    "    data_list = []\n",
    "    with open(input_file, \"r\") as f:\n",
    "        for line in f:\n",
    "            items = line.split(\",\")\n",
    "            data_list = [float(item) for item in items]\n",
    "\n",
    "    max_val = data_list[0]\n",
    "    for x in data_list:\n",
    "        if x > max_val:\n",
    "            max_val = x\n",
    "\n",
    "    min_val = data_list[0]\n",
    "    for x in data_list:\n",
    "        if x < min_val:\n",
    "            min_val = x\n",
    "\n",
    "    bin_length = (max_val - min_val) / nbin\n",
    "\n",
    "    bin_values = [min_val + bin_length * i for i in range(21)]\n",
    "\n",
    "    bin_counts = [0] * nbin\n",
    "\n",
    "    for number in data_list:\n",
    "        for i in range(len(bin_values) - 1):\n",
    "            if number >= bin_values[i] and number <= bin_values[i + 1]:\n",
    "                bin_counts[i] += 1\n",
    "\n",
    "    max_bincount = bin_counts[0]\n",
    "    for x in bin_counts:\n",
    "        if x > max_bincount:\n",
    "            max_bincount = x\n",
    "\n",
    "    height_values = [height / max_bincount * i for i in bin_counts]\n",
    "    height_values = [int(a) for a in height_values]\n",
    "\n",
    "    for i in range(0, 20):\n",
    "        for height_val in height_values:\n",
    "            if (20 - i) <= height_val:\n",
    "                print(\" * \", end=\"\")\n",
    "            else:\n",
    "                print(\" \" * 3, end=\"\")\n",
    "        print(\"\")\n",
    "    for val in bin_values:\n",
    "        if int(val) < 10:\n",
    "            print(int(val), \" \", end=\"\")\n",
    "        else:\n",
    "            print(int(val), end=\" \")\n",
    "\n",
    "make_histo(\"test2.txt\")\n"
   ]
  },
  {
   "cell_type": "code",
   "execution_count": 19,
   "id": "f7587615-e040-4506-9a4f-3da5179cb37a",
   "metadata": {},
   "outputs": [
    {
     "name": "stdout",
     "output_type": "stream",
     "text": [
      "False\n",
      "False\n",
      "False\n"
     ]
    }
   ],
   "source": [
    "# Nu Uyen Thi PHAN - M1 VMI\n",
    "def is_prime(a):\n",
    "    if type(a) != int:\n",
    "        return False\n",
    "    if a > 1:\n",
    "        for n in range(2, int(a / 2) + 1):\n",
    "            if a % n == 0:\n",
    "                return False\n",
    "        return True\n",
    "    else:\n",
    "        return False\n",
    "print(is_prime(1.0))\n",
    "print(is_prime(0))\n",
    "print(is_prime(4))"
   ]
  },
  {
   "cell_type": "code",
   "execution_count": 20,
   "id": "e811d4ca-e35c-478e-9c5c-a7496b681aca",
   "metadata": {},
   "outputs": [
    {
     "name": "stdout",
     "output_type": "stream",
     "text": [
      "False\n",
      "True\n"
     ]
    }
   ],
   "source": [
    "# Nu Uyen Thi PHAN - M1 VMI\n",
    "def is_pal(s):\n",
    "    return str(s) == str(s)[::-1]\n",
    "print(is_pal(\"kiki\"))\n",
    "print(is_pal(\"baab\"))"
   ]
  },
  {
   "cell_type": "code",
   "execution_count": null,
   "id": "593f1b15-fbc7-4d30-8d2c-a0d999a230fd",
   "metadata": {},
   "outputs": [],
   "source": []
  }
 ],
 "metadata": {
  "kernelspec": {
   "display_name": "Python 3 (ipykernel)",
   "language": "python",
   "name": "python3"
  },
  "language_info": {
   "codemirror_mode": {
    "name": "ipython",
    "version": 3
   },
   "file_extension": ".py",
   "mimetype": "text/x-python",
   "name": "python",
   "nbconvert_exporter": "python",
   "pygments_lexer": "ipython3",
   "version": "3.8.12"
  }
 },
 "nbformat": 4,
 "nbformat_minor": 5
}

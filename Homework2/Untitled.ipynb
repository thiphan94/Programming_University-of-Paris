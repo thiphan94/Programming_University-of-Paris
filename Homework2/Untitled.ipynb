{
 "cells": [
  {
   "cell_type": "code",
   "execution_count": 1,
   "id": "ac14dcde-d6a0-4a00-997b-84046137a3b9",
   "metadata": {},
   "outputs": [],
   "source": [
    "numbers = [15.237850115469502, 0.2656221016347965, 9.960416057134175, 4.878231580800668, 11.361097191982466, 3.446770816790702, 3.84865823880859, 10.816099785303406, 4.411737081602379, 1.3049526637365505, 7.1152629319551375, 12.883947457774198, 0.6120005544328393, 0.036197526914004755, 15.200064626674774, 24.517311482147267, 4.005326204233004, 1.2034735185517527, 10.022583537293265, 20.530949474159918, 3.6751358163181216, 33.30103032561391, 25.911304493215827, 8.825424900361536, 3.1230664429282156, 0.9115808690433935, 14.021168978823834, 29.839898012914006, 11.276839572110502, 7.83524807032265, 15.451631672256182, 20.005718188420392, 15.386144165637393, 20.45844455611848, 19.59916741850513, 2.8194911554033384, 26.08388293983041, 10.122390019456503, 8.33824698616582, 12.758963835348007, 5.0956992975390945, 6.554013663579923, 1.9161277251351017, 2.862295072891657, 16.150007796068568, 1.5018972386318248, 14.681641937604374, 18.838517656433137, 11.514109289823026, 6.940488059962029, 9.890129324970843, 8.022319277571075, 17.231949803650178, 0.865450464062413, 12.0252131367202, 10.270433002064589, 11.565947030743603, 0.08727619982582896, 4.569947120152809, 36.886162095579714, 7.074708190516753, 0.7463173414564108, 11.30772650304552, 16.13035297704067, 4.63616783860977, 28.831932245898873, 22.197355167455022, 9.623495471347981, 5.897542385306897, 7.562549789592472, 0.021594195259648702, 7.204314132360287, 3.200669592978611, 5.490088967311991, 3.056653393412833, 6.934368560015529, 4.916069651732838, 1.3688408710042976, 24.462229457470475, 24.147534301586546, 11.153440507187046, 7.747561740900972, 21.12144909778662, 3.5077384916524728, 5.732957194623227, 1.3526156433025531, 5.621751250758385, 3.7352102087164445, 4.202260664744201, 2.2499668494104585, 2.473811783846309, 0.08847370223820791, 1.7416881050495239, 4.779950512964251, 1.1409645721857784, 10.694927280608647, 19.94763134587746, 0.016103403632664066, 19.99598242120257, 11.34660600060864]"
   ]
  },
  {
   "cell_type": "code",
   "execution_count": 2,
   "id": "935248e5-bb38-4e2e-b6e1-d7f743dfcbb0",
   "metadata": {},
   "outputs": [
    {
     "name": "stdout",
     "output_type": "stream",
     "text": [
      "[41.97538490539445, 40.74159861404654, 39.94612415897431, 39.25403926592041, 39.35396970436075, 41.9177902835095, 41.04464615780842, 43.727211762433384, 40.53563284021417, 41.032467465116945, 42.231341900761294, 40.58305309195463, 39.13782575776875, 40.35523524173254, 41.680130360982695, 38.200293553327334, 39.50302187257187, 36.94544265365826, 37.89851266484819, 38.71971026449121, 38.036095343036145, 39.39146046429004, 43.002348794069164, 38.618433683515704, 41.50896237323116, 40.59104418006055, 44.038305397243214, 42.31905160067471, 37.03035016070976, 45.465978344702584, 40.031600839703884, 39.338835561196916, 39.15288831284977, 37.2667909142965, 42.41394051683825, 39.7217759103615, 42.94159097883031, 42.55340765233478, 39.923552551790856, 42.96994401873795, 41.375259364025524, 40.112762669120826, 38.36087628854567, 37.41754081602098, 38.42907061359411, 41.87056693853638, 41.951827056755654, 42.19574382945635, 40.233399781865685, 41.15026314895154, 40.84730631113665, 42.31672790771175, 38.47572836051726, 34.75141538727657, 37.733097078457156, 40.418964047556074, 36.12434974452552, 37.654964740070525, 41.82776078153867, 39.51980345866524, 40.652649083301, 39.78628950133005, 40.071016056673855, 38.59849741602651, 40.1850315422614, 40.88962626985902, 39.51505704547681, 38.752245646463635, 39.979775150454465, 38.305064483926586, 40.867717731487346, 39.81555587408544, 39.51471593171235, 40.711853286207315, 44.37292901679309, 38.1638238757918, 40.016305880025676, 40.17366674768862, 42.316462293086246, 39.997232909268384, 38.78407297763064, 38.28437203143811, 38.91883329275616, 37.6245462786439, 44.557072213786476, 42.04217074067952, 42.63574697655872, 44.744686894552004, 38.58003075484342, 39.27685917000239, 40.73274640032829, 37.9507891565011, 39.68290736748155, 39.07869149620346, 41.89301859380186, 41.93329850037006, 39.626473201918664, 40.131629257971, 37.8443651452163, 44.40731362527307]\n"
     ]
    }
   ],
   "source": [
    "numbers=[]\n",
    "with open(\"test2.txt\",'r') as f:\n",
    "    for line in f:\n",
    "        items = line.split(\",\")\n",
    "        numbers= [float(item) for item in items]\n",
    "print(numbers)"
   ]
  },
  {
   "cell_type": "code",
   "execution_count": 3,
   "id": "f929e63b-a7bd-4dc5-85bb-e87387dd3441",
   "metadata": {},
   "outputs": [
    {
     "data": {
      "text/plain": [
       "100"
      ]
     },
     "execution_count": 3,
     "metadata": {},
     "output_type": "execute_result"
    }
   ],
   "source": [
    "len(numbers)\n"
   ]
  },
  {
   "cell_type": "code",
   "execution_count": 4,
   "id": "32b9343d-2235-40cb-9b37-75e78b7fb0ce",
   "metadata": {},
   "outputs": [
    {
     "data": {
      "text/plain": [
       "34.75141538727657"
      ]
     },
     "execution_count": 4,
     "metadata": {},
     "output_type": "execute_result"
    }
   ],
   "source": [
    "min_val = min(numbers)\n",
    "min_val"
   ]
  },
  {
   "cell_type": "code",
   "execution_count": 5,
   "id": "0377a886-78a6-4ca8-9d81-1f1b454d4327",
   "metadata": {},
   "outputs": [
    {
     "data": {
      "text/plain": [
       "45.465978344702584"
      ]
     },
     "execution_count": 5,
     "metadata": {},
     "output_type": "execute_result"
    }
   ],
   "source": [
    "max_val = max(numbers)\n",
    "max_val"
   ]
  },
  {
   "cell_type": "code",
   "execution_count": 6,
   "id": "5c80b56c-67a0-4b34-8e5c-cf270658ac78",
   "metadata": {},
   "outputs": [],
   "source": [
    "bin_length = (max_val - min_val)/20"
   ]
  },
  {
   "cell_type": "code",
   "execution_count": 7,
   "id": "da3288ce-aa8d-4c5c-a62f-cce8923a6823",
   "metadata": {},
   "outputs": [],
   "source": [
    "bin_values = [min_val + bin_length * i for i in range(21)]"
   ]
  },
  {
   "cell_type": "code",
   "execution_count": 8,
   "id": "4c65a798-07ea-4ca2-84c8-31f94ce61b61",
   "metadata": {},
   "outputs": [
    {
     "data": {
      "text/plain": [
       "21"
      ]
     },
     "execution_count": 8,
     "metadata": {},
     "output_type": "execute_result"
    }
   ],
   "source": [
    "len(bin_values)"
   ]
  },
  {
   "cell_type": "code",
   "execution_count": 9,
   "id": "ff4522ea-74fc-4f63-aab2-076935482f46",
   "metadata": {},
   "outputs": [],
   "source": [
    "bin_counts = [0] * 20"
   ]
  },
  {
   "cell_type": "code",
   "execution_count": 10,
   "id": "89076961-b80b-412d-89c1-0efb04e8d759",
   "metadata": {},
   "outputs": [
    {
     "data": {
      "text/plain": [
       "[0, 0, 0, 0, 0, 0, 0, 0, 0, 0, 0, 0, 0, 0, 0, 0, 0, 0, 0, 0]"
      ]
     },
     "execution_count": 10,
     "metadata": {},
     "output_type": "execute_result"
    }
   ],
   "source": [
    "bin_counts"
   ]
  },
  {
   "cell_type": "code",
   "execution_count": 11,
   "id": "e22f79f1-6ac9-4676-af63-d8d8d4717f1e",
   "metadata": {},
   "outputs": [
    {
     "data": {
      "text/plain": [
       "[34.75141538727657,\n",
       " 35.28714353514788,\n",
       " 35.82287168301917,\n",
       " 36.358599830890476,\n",
       " 36.89432797876177,\n",
       " 37.430056126633076,\n",
       " 37.96578427450438,\n",
       " 38.501512422375676,\n",
       " 39.03724057024698,\n",
       " 39.572968718118275,\n",
       " 40.10869686598958,\n",
       " 40.64442501386088,\n",
       " 41.18015316173218,\n",
       " 41.71588130960348,\n",
       " 42.25160945747478,\n",
       " 42.78733760534608,\n",
       " 43.32306575321738,\n",
       " 43.85879390108868,\n",
       " 44.394522048959985,\n",
       " 44.93025019683128,\n",
       " 45.465978344702584]"
      ]
     },
     "execution_count": 11,
     "metadata": {},
     "output_type": "execute_result"
    }
   ],
   "source": [
    "bin_values"
   ]
  },
  {
   "cell_type": "code",
   "execution_count": 12,
   "id": "f25bc1d3-aed7-4408-befb-05cdff8fe4b0",
   "metadata": {},
   "outputs": [
    {
     "name": "stdout",
     "output_type": "stream",
     "text": [
      "[1, 0, 1, 0, 4, 6, 8, 7, 12, 12, 10, 10, 3, 10, 6, 3, 1, 2, 3, 1]\n"
     ]
    }
   ],
   "source": [
    "for number in numbers:\n",
    "    for i in range(len(bin_values)-1):\n",
    "        if number >= bin_values[i] and number <= bin_values[i+1]:\n",
    "            bin_counts[i] += 1\n",
    "print(bin_counts)\n",
    "\n",
    "\n",
    "\n"
   ]
  },
  {
   "cell_type": "code",
   "execution_count": 13,
   "id": "830271ad-6499-4c08-94b5-3806e4d6fb26",
   "metadata": {},
   "outputs": [
    {
     "data": {
      "text/plain": [
       "100"
      ]
     },
     "execution_count": 13,
     "metadata": {},
     "output_type": "execute_result"
    }
   ],
   "source": [
    "sum(bin_counts)"
   ]
  },
  {
   "cell_type": "code",
   "execution_count": 22,
   "id": "22a6931a-8b03-4f13-ba27-d62c1ad19945",
   "metadata": {},
   "outputs": [
    {
     "name": "stdout",
     "output_type": "stream",
     "text": [
      "                                                       *  * \n",
      "                                                       *  * \n",
      "                                                       *  * \n",
      "                                                       *  * \n",
      "                                                       *  * \n",
      "                                                       *  * \n",
      "                                                       *  * \n",
      "                                                       *  * \n",
      "                                                       *  * \n",
      "                                                       *  * \n",
      "                                                       *  * \n",
      "                                                       *  * \n",
      "                                                       *  * \n",
      "                                                       *  * \n",
      "                                                       *  * \n",
      "                                                       *  * \n",
      "                                                       *  * \n",
      "                                                       *  * \n",
      "                                                       *  * \n",
      "                                                       *  * \n",
      "0  1  3  5  7  9  11 12 14 16 18 20 22 23 25 27 29 31 33 35 36 "
     ]
    }
   ],
   "source": [
    "#def make_histo(bin_values):\n",
    "def make_histo(input_file, nbin=20, height=20):\n",
    "    data_list=[]\n",
    "    with open(input_file,'r') as f:\n",
    "        for line in f:\n",
    "            items = line.split(\",\")\n",
    "            data_list = [float(item) for item in items]\n",
    "            \n",
    "    max_val = data_list[0]\n",
    "    for x in data_list:\n",
    "        if x > max_val:\n",
    "            max_val = x\n",
    "            \n",
    "    min_val = data_list[0]\n",
    "    for x in data_list:\n",
    "        if x < min_val:\n",
    "            min_val = x\n",
    "    \n",
    "    bin_length = (max_val - min_val)/nbin\n",
    "        \n",
    "    bin_values = [min_val + bin_length * i for i in range(21)]\n",
    "    \n",
    "    bin_counts = [0] * nbin\n",
    "    \n",
    "    for number in numbers:\n",
    "        for i in range(len(bin_values)-1):\n",
    "            if number >= bin_values[i] and number <= bin_values[i+1]:\n",
    "                bin_counts[i] += 1\n",
    "    \n",
    "    max_bincount = bin_counts[0]\n",
    "    for x in bin_counts:\n",
    "        if x > max_bincount:\n",
    "            max_bincount = x\n",
    "            \n",
    "    height_values = [height/max_bincount* i for i in bin_counts]\n",
    "    height_values = [int(a) for a in height_values]\n",
    "  \n",
    "    for i in range(0,20):\n",
    "        for height_val in height_values:\n",
    "            if (20-i) <= height_val:\n",
    "                print(\" * \", end=\"\")\n",
    "            else:\n",
    "                print(\" \"*3,end=\"\")\n",
    "        print(\"\") \n",
    "    for val in bin_values:\n",
    "        if int(val) < 10:\n",
    "            print(int(val),\" \",end =\"\")\n",
    "        else:\n",
    "            print(int(val),end =\" \")\n",
    "    \n",
    "make_histo(\"test.txt\")"
   ]
  },
  {
   "cell_type": "code",
   "execution_count": 15,
   "id": "dc7d0298-f99d-4e43-96d1-a8a737b93b28",
   "metadata": {},
   "outputs": [
    {
     "name": "stdout",
     "output_type": "stream",
     "text": [
      "[41.97538490539445, 40.74159861404654, 39.94612415897431, 39.25403926592041, 39.35396970436075, 41.9177902835095, 41.04464615780842, 43.727211762433384, 40.53563284021417, 41.032467465116945, 42.231341900761294, 40.58305309195463, 39.13782575776875, 40.35523524173254, 41.680130360982695, 38.200293553327334, 39.50302187257187, 36.94544265365826, 37.89851266484819, 38.71971026449121, 38.036095343036145, 39.39146046429004, 43.002348794069164, 38.618433683515704, 41.50896237323116, 40.59104418006055, 44.038305397243214, 42.31905160067471, 37.03035016070976, 45.465978344702584, 40.031600839703884, 39.338835561196916, 39.15288831284977, 37.2667909142965, 42.41394051683825, 39.7217759103615, 42.94159097883031, 42.55340765233478, 39.923552551790856, 42.96994401873795, 41.375259364025524, 40.112762669120826, 38.36087628854567, 37.41754081602098, 38.42907061359411, 41.87056693853638, 41.951827056755654, 42.19574382945635, 40.233399781865685, 41.15026314895154, 40.84730631113665, 42.31672790771175, 38.47572836051726, 34.75141538727657, 37.733097078457156, 40.418964047556074, 36.12434974452552, 37.654964740070525, 41.82776078153867, 39.51980345866524, 40.652649083301, 39.78628950133005, 40.071016056673855, 38.59849741602651, 40.1850315422614, 40.88962626985902, 39.51505704547681, 38.752245646463635, 39.979775150454465, 38.305064483926586, 40.867717731487346, 39.81555587408544, 39.51471593171235, 40.711853286207315, 44.37292901679309, 38.1638238757918, 40.016305880025676, 40.17366674768862, 42.316462293086246, 39.997232909268384, 38.78407297763064, 38.28437203143811, 38.91883329275616, 37.6245462786439, 44.557072213786476, 42.04217074067952, 42.63574697655872, 44.744686894552004, 38.58003075484342, 39.27685917000239, 40.73274640032829, 37.9507891565011, 39.68290736748155, 39.07869149620346, 41.89301859380186, 41.93329850037006, 39.626473201918664, 40.131629257971, 37.8443651452163, 44.40731362527307]\n"
     ]
    }
   ],
   "source": [
    "mylist=[]\n",
    "with open(\"test2.txt\",'r') as f:\n",
    "    for line in f:\n",
    "        items = line.split(\",\")\n",
    "        mylist = [float(item) for item in items]\n",
    "print(mylist)"
   ]
  },
  {
   "cell_type": "code",
   "execution_count": 16,
   "id": "0e219dcb-3fcf-4eb8-a46e-0e4f1d122f1e",
   "metadata": {},
   "outputs": [
    {
     "name": "stdout",
     "output_type": "stream",
     "text": [
      "4\n"
     ]
    }
   ],
   "source": [
    "def ackermann(m, n):\n",
    "    if m == 0:\n",
    "        return n + 1\n",
    "    elif m > 0 and n == 0:\n",
    "        return ackermann(m - 1, 1)\n",
    "    elif m > 0 and n > 0:\n",
    "        return ackermann(m - 1, ackermann(m, n - 1))\n",
    "print(ackermann(1,2))"
   ]
  },
  {
   "cell_type": "code",
   "execution_count": 19,
   "id": "4bffa87a-f3d2-4793-b87a-fb7b07652d47",
   "metadata": {},
   "outputs": [
    {
     "name": "stdout",
     "output_type": "stream",
     "text": [
      "                                                       *  * \n",
      "                                                       *  * \n",
      "                                                       *  * \n",
      "                                                       *  * \n",
      "                                                       *  * \n",
      "                                                       *  * \n",
      "                                                       *  * \n",
      "                                                       *  * \n",
      "                                                       *  * \n",
      "                                                       *  * \n",
      "                                                       *  * \n",
      "                                                       *  * \n",
      "                                                       *  * \n",
      "                                                       *  * \n",
      "                                                       *  * \n",
      "                                                       *  * \n",
      "                                                       *  * \n",
      "                                                       *  * \n",
      "                                                       *  * \n",
      "                                                       *  * \n",
      "0  1  3  5  7  9  11 12 14 16 18 20 22 23 25 27 29 31 33 35 36 "
     ]
    }
   ],
   "source": [
    "# Nu Uyen Thi PHAN - M1 VMI\n",
    "def make_histo(input_file, nbin=20, height=20):\n",
    "    data_list = []\n",
    "    with open(input_file, \"r\") as f:\n",
    "        for line in f:\n",
    "            items = line.split(\",\")\n",
    "            data_list = [float(item) for item in items]\n",
    "\n",
    "    max_val = data_list[0]\n",
    "    for x in data_list:\n",
    "        if x > max_val:\n",
    "            max_val = x\n",
    "\n",
    "    min_val = data_list[0]\n",
    "    for x in data_list:\n",
    "        if x < min_val:\n",
    "            min_val = x\n",
    "\n",
    "    bin_length = (max_val - min_val) / nbin\n",
    "\n",
    "    bin_values = [min_val + bin_length * i for i in range(21)]\n",
    "\n",
    "    bin_counts = [0] * nbin\n",
    "\n",
    "    for number in numbers:\n",
    "        for i in range(len(bin_values) - 1):\n",
    "            if number >= bin_values[i] and number <= bin_values[i + 1]:\n",
    "                bin_counts[i] += 1\n",
    "\n",
    "    max_bincount = bin_counts[0]\n",
    "    for x in bin_counts:\n",
    "        if x > max_bincount:\n",
    "            max_bincount = x\n",
    "\n",
    "    height_values = [height / max_bincount * i for i in bin_counts]\n",
    "    height_values = [int(a) for a in height_values]\n",
    "\n",
    "    for i in range(0, 20):\n",
    "        for height_val in height_values:\n",
    "            if (20 - i) <= height_val:\n",
    "                print(\" * \", end=\"\")\n",
    "            else:\n",
    "                print(\" \" * 3, end=\"\")\n",
    "        print(\"\")\n",
    "    for val in bin_values:\n",
    "        if int(val) < 10:\n",
    "            print(int(val), \" \", end=\"\")\n",
    "        else:\n",
    "            print(int(val), end=\" \")\n",
    "\n",
    "make_histo(\"test.txt\")\n"
   ]
  },
  {
   "cell_type": "code",
   "execution_count": null,
   "id": "eaa91db4-b113-4b01-9311-2f39f540a86e",
   "metadata": {},
   "outputs": [],
   "source": []
  },
  {
   "cell_type": "code",
   "execution_count": null,
   "id": "2f4899b8-d669-475a-b773-0db274498aea",
   "metadata": {},
   "outputs": [],
   "source": []
  }
 ],
 "metadata": {
  "kernelspec": {
   "display_name": "Python 3 (ipykernel)",
   "language": "python",
   "name": "python3"
  },
  "language_info": {
   "codemirror_mode": {
    "name": "ipython",
    "version": 3
   },
   "file_extension": ".py",
   "mimetype": "text/x-python",
   "name": "python",
   "nbconvert_exporter": "python",
   "pygments_lexer": "ipython3",
   "version": "3.8.12"
  }
 },
 "nbformat": 4,
 "nbformat_minor": 5
}
